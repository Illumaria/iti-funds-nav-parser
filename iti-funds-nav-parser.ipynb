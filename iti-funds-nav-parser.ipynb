{
  "nbformat": 4,
  "nbformat_minor": 0,
  "metadata": {
    "colab": {
      "name": "iti_ruse.ipynb",
      "provenance": [],
      "collapsed_sections": [],
      "include_colab_link": true
    },
    "kernelspec": {
      "name": "python3",
      "display_name": "Python 3"
    }
  },
  "cells": [
    {
      "cell_type": "markdown",
      "metadata": {
        "id": "view-in-github",
        "colab_type": "text"
      },
      "source": [
        "<a href=\"https://colab.research.google.com/github/Illumaria/iti-funds-nav-parser/blob/master/iti-funds-nav-parser.ipynb\" target=\"_parent\"><img src=\"https://colab.research.google.com/assets/colab-badge.svg\" alt=\"Open In Colab\"/></a>"
      ]
    },
    {
      "cell_type": "code",
      "metadata": {
        "id": "1wemD1STV49M",
        "colab_type": "code",
        "colab": {}
      },
      "source": [
        "from bs4 import BeautifulSoup\n",
        "import requests\n",
        "import re\n",
        "import pandas as pd"
      ],
      "execution_count": 0,
      "outputs": []
    },
    {
      "cell_type": "code",
      "metadata": {
        "id": "x9LO9AuNbKDC",
        "colab_type": "code",
        "colab": {}
      },
      "source": [
        "url = 'https://www.londonstockexchange.com/stock/RUSE/iti-funds-ucits-etf-sicav/analysis?page=' # initial link (unspecified page)"
      ],
      "execution_count": 0,
      "outputs": []
    },
    {
      "cell_type": "code",
      "metadata": {
        "id": "y8xpMiJac-tB",
        "colab_type": "code",
        "colab": {}
      },
      "source": [
        "resp = requests.get(url + '1')"
      ],
      "execution_count": 0,
      "outputs": []
    },
    {
      "cell_type": "code",
      "metadata": {
        "id": "gi3SUseUdFZC",
        "colab_type": "code",
        "colab": {}
      },
      "source": [
        "bs = BeautifulSoup(resp.text)"
      ],
      "execution_count": 0,
      "outputs": []
    },
    {
      "cell_type": "code",
      "metadata": {
        "id": "UmwGClAAssY6",
        "colab_type": "code",
        "colab": {}
      },
      "source": [
        "# Get the number of pages:\n",
        "pages = bs.find('a', class_=\"page-number page-last\").get('href')\n",
        "num_pages = int(pages.split(sep='=')[1])"
      ],
      "execution_count": 0,
      "outputs": []
    },
    {
      "cell_type": "code",
      "metadata": {
        "id": "PzTXw4KMbGXE",
        "colab_type": "code",
        "colab": {}
      },
      "source": [
        "# Find all the partial links on the first page:\n",
        "scripts_rusb = []\n",
        "scripts_ruse = []\n",
        "for tag in bs.find_all('a'):\n",
        "    if 'EUROBOND: Net Asset Value' in tag.text:\n",
        "        scripts_rusb.append(tag.get('href'))\n",
        "    if 'ETF SICAV: Net Asset Value' in tag.text:\n",
        "        scripts_ruse.append(tag.get('href'))"
      ],
      "execution_count": 0,
      "outputs": []
    },
    {
      "cell_type": "code",
      "metadata": {
        "id": "poYDosK1wJtS",
        "colab_type": "code",
        "colab": {}
      },
      "source": [
        "# Do the same for other pages:\n",
        "for i in range(2,num_pages+1):\n",
        "    resp = requests.get('{}{}'.format(url, i))\n",
        "    bs = BeautifulSoup(resp.text)\n",
        "    for tag in bs.find_all('a'):\n",
        "        if 'EUROBOND: Net Asset Value' in tag.text:\n",
        "            scripts_rusb.append(tag.get('href'))\n",
        "        if 'ETF SICAV: Net Asset Value' in tag.text:\n",
        "            scripts_ruse.append(tag.get('href'))"
      ],
      "execution_count": 0,
      "outputs": []
    },
    {
      "cell_type": "code",
      "metadata": {
        "id": "oBmPzm3bfYb7",
        "colab_type": "code",
        "colab": {}
      },
      "source": [
        "# Get full links:\n",
        "urls_ruse = []\n",
        "urls_rusb = []\n",
        "urls_ruse.extend(['https://www.londonstockexchange.com/' + scripts_ruse[i] for i in range(len(scripts_ruse))])\n",
        "urls_rusb.extend(['https://www.londonstockexchange.com/' + scripts_rusb[i] for i in range(len(scripts_rusb))])"
      ],
      "execution_count": 0,
      "outputs": []
    },
    {
      "cell_type": "code",
      "metadata": {
        "id": "rl1ziATB69nE",
        "colab_type": "code",
        "colab": {}
      },
      "source": [
        "# Get the number of urls to determine the number of table rows:\n",
        "nrows_ruse = len(urls_ruse)\n",
        "nrows_rusb = len(urls_rusb)\n",
        "# Create empty pandas dataframes with 0 to (nrows-1) rows and 0 to (4-1) columns:\n",
        "table_ruse = pd.DataFrame(columns=range(0,4), index = range(0, nrows_ruse))\n",
        "table_rusb = pd.DataFrame(columns=range(0,4), index = range(0, nrows_rusb))"
      ],
      "execution_count": 0,
      "outputs": []
    },
    {
      "cell_type": "code",
      "metadata": {
        "id": "lx0Pikbrfwd2",
        "colab_type": "code",
        "colab": {}
      },
      "source": [
        "# Fill the dataframe with RUSE data:\n",
        "for row in range(nrows_ruse):\n",
        "    resp = requests.get(urls_ruse[row])\n",
        "    bs = BeautifulSoup(resp.text)\n",
        "    script = bs.find('script', text = re.compile('DEALING DATE')).text\n",
        "\n",
        "    date = re.search(re.compile(r'DEALING DATE: \\d+\\-\\w{2,3}\\-\\d{4}'), script).group(0)\n",
        "    table_ruse.iat[row,0] = date.split()[2]\n",
        "\n",
        "    #nav = bs.find('p', text = re.compile('NAV PER SHARE')).text\n",
        "    nav = re.search(re.compile(r'NAV PER SHARE: USD: \\d+.\\d+'), script).group(0)\n",
        "    fnav = table_ruse.iat[row,1] = float(nav.split()[4])\n",
        "\n",
        "    #shares = bs.find('p', text = re.compile('NUMBER OF SHARES')).text\n",
        "    shares = re.search(re.compile(r'NUMBER OF SHARES IN ISSUE: \\d+'), script).group(0)\n",
        "    ishares = table_ruse.iat[row,2] = int(shares.split()[5])\n",
        "\n",
        "    table_ruse.iat[row,3] = fnav*ishares"
      ],
      "execution_count": 0,
      "outputs": []
    },
    {
      "cell_type": "code",
      "metadata": {
        "id": "7bZqzTqNXmjG",
        "colab_type": "code",
        "colab": {}
      },
      "source": [
        "# Fill the dataframe with RUSB data:\n",
        "for row in range(nrows_rusb):\n",
        "    resp = requests.get(urls_rusb[row])\n",
        "    bs = BeautifulSoup(resp.text)\n",
        "    script = bs.find('script', text = re.compile('DEALING DATE')).text\n",
        "\n",
        "    date = re.search(re.compile(r'DEALING DATE: \\d+\\-\\w{2,3}\\-\\d{4}'), script).group(0)\n",
        "    table_rusb.iat[row,0] = date.split()[2]\n",
        "\n",
        "    nav = re.search(re.compile(r'NAV PER SHARE: USD: \\d+.\\d+'), script).group(0)\n",
        "    fnav = table_rusb.iat[row,1] = float(nav.split()[4])\n",
        "\n",
        "    shares = re.search(re.compile(r'NUMBER OF SHARES IN ISSUE: \\d+'), script).group(0)\n",
        "    ishares = table_rusb.iat[row,2] = int(shares.split()[5])\n",
        "\n",
        "    table_rusb.iat[row,3] = fnav*ishares"
      ],
      "execution_count": 0,
      "outputs": []
    },
    {
      "cell_type": "code",
      "metadata": {
        "id": "9KkZSnUU8mwU",
        "colab_type": "code",
        "colab": {}
      },
      "source": [
        "# Rename the columns:\n",
        "table_ruse.columns = table_rusb.columns = ['Date', 'NAV per share', 'Number of shares', 'Total NAV']"
      ],
      "execution_count": 0,
      "outputs": []
    },
    {
      "cell_type": "code",
      "metadata": {
        "id": "dmGkm-_G9PlL",
        "colab_type": "code",
        "colab": {}
      },
      "source": [
        "# Set the date column to datetime type:\n",
        "table_ruse['Date'] = pd.to_datetime(table_ruse['Date'], dayfirst=True)\n",
        "table_rusb['Date'] = pd.to_datetime(table_rusb['Date'], dayfirst=True)"
      ],
      "execution_count": 0,
      "outputs": []
    },
    {
      "cell_type": "code",
      "metadata": {
        "id": "DMEb4PaN0lSS",
        "colab_type": "code",
        "colab": {}
      },
      "source": [
        "# Do some type conversions:\n",
        "table_ruse['NAV per share'] = pd.to_numeric(table_ruse['NAV per share'])\n",
        "table_ruse['Number of shares'] = pd.to_numeric(table_ruse['Number of shares'])\n",
        "table_ruse['Total NAV'] = pd.to_numeric(table_ruse['Total NAV'])\n",
        "table_rusb['NAV per share'] = pd.to_numeric(table_rusb['NAV per share'])\n",
        "table_rusb['Number of shares'] = pd.to_numeric(table_rusb['Number of shares'])\n",
        "table_rusb['Total NAV'] = pd.to_numeric(table_rusb['Total NAV'])\n",
        "# Change the index column:\n",
        "table_ruse.index = pd.DatetimeIndex(table_ruse['Date'])\n",
        "table_rusb.index = pd.DatetimeIndex(table_rusb['Date'])"
      ],
      "execution_count": 0,
      "outputs": []
    },
    {
      "cell_type": "code",
      "metadata": {
        "id": "eW31vbL63A7K",
        "colab_type": "code",
        "colab": {}
      },
      "source": [
        "# Get rid of the data column since it copies the index column now:\n",
        "table_ruse = table_ruse.drop(columns=['Date']).dropna()\n",
        "table_rusb = table_rusb.drop(columns=['Date']).dropna()"
      ],
      "execution_count": 0,
      "outputs": []
    },
    {
      "cell_type": "code",
      "metadata": {
        "id": "61j5scTI31hn",
        "colab_type": "code",
        "colab": {}
      },
      "source": [
        "# Inverse the dataframes:\n",
        "table_ruse = table_ruse.iloc[::-1]\n",
        "table_rusb = table_rusb.iloc[::-1]"
      ],
      "execution_count": 0,
      "outputs": []
    },
    {
      "cell_type": "code",
      "metadata": {
        "id": "3kgtLTPmYid2",
        "colab_type": "code",
        "colab": {
          "base_uri": "https://localhost:8080/",
          "height": 238
        },
        "outputId": "16f78493-ddf1-4dfb-a16b-8650968a6a75"
      },
      "source": [
        "table_ruse.tail()"
      ],
      "execution_count": 19,
      "outputs": [
        {
          "output_type": "execute_result",
          "data": {
            "text/html": [
              "<div>\n",
              "<style scoped>\n",
              "    .dataframe tbody tr th:only-of-type {\n",
              "        vertical-align: middle;\n",
              "    }\n",
              "\n",
              "    .dataframe tbody tr th {\n",
              "        vertical-align: top;\n",
              "    }\n",
              "\n",
              "    .dataframe thead th {\n",
              "        text-align: right;\n",
              "    }\n",
              "</style>\n",
              "<table border=\"1\" class=\"dataframe\">\n",
              "  <thead>\n",
              "    <tr style=\"text-align: right;\">\n",
              "      <th></th>\n",
              "      <th>NAV per share</th>\n",
              "      <th>Number of shares</th>\n",
              "      <th>Total NAV</th>\n",
              "    </tr>\n",
              "    <tr>\n",
              "      <th>Date</th>\n",
              "      <th></th>\n",
              "      <th></th>\n",
              "      <th></th>\n",
              "    </tr>\n",
              "  </thead>\n",
              "  <tbody>\n",
              "    <tr>\n",
              "      <th>2020-06-04</th>\n",
              "      <td>25.0777</td>\n",
              "      <td>189000</td>\n",
              "      <td>4739685.3</td>\n",
              "    </tr>\n",
              "    <tr>\n",
              "      <th>2020-06-05</th>\n",
              "      <td>25.6062</td>\n",
              "      <td>189000</td>\n",
              "      <td>4839571.8</td>\n",
              "    </tr>\n",
              "    <tr>\n",
              "      <th>2020-06-08</th>\n",
              "      <td>25.5886</td>\n",
              "      <td>189000</td>\n",
              "      <td>4836245.4</td>\n",
              "    </tr>\n",
              "    <tr>\n",
              "      <th>2020-06-09</th>\n",
              "      <td>25.5740</td>\n",
              "      <td>189000</td>\n",
              "      <td>4833486.0</td>\n",
              "    </tr>\n",
              "    <tr>\n",
              "      <th>2020-06-10</th>\n",
              "      <td>25.3441</td>\n",
              "      <td>189000</td>\n",
              "      <td>4790034.9</td>\n",
              "    </tr>\n",
              "  </tbody>\n",
              "</table>\n",
              "</div>"
            ],
            "text/plain": [
              "            NAV per share  Number of shares  Total NAV\n",
              "Date                                                  \n",
              "2020-06-04        25.0777            189000  4739685.3\n",
              "2020-06-05        25.6062            189000  4839571.8\n",
              "2020-06-08        25.5886            189000  4836245.4\n",
              "2020-06-09        25.5740            189000  4833486.0\n",
              "2020-06-10        25.3441            189000  4790034.9"
            ]
          },
          "metadata": {
            "tags": []
          },
          "execution_count": 19
        }
      ]
    },
    {
      "cell_type": "code",
      "metadata": {
        "id": "HVemfegNYkdZ",
        "colab_type": "code",
        "colab": {
          "base_uri": "https://localhost:8080/",
          "height": 238
        },
        "outputId": "672405bb-19da-4ba7-e22a-da8af22c1789"
      },
      "source": [
        "table_rusb.tail()"
      ],
      "execution_count": 20,
      "outputs": [
        {
          "output_type": "execute_result",
          "data": {
            "text/html": [
              "<div>\n",
              "<style scoped>\n",
              "    .dataframe tbody tr th:only-of-type {\n",
              "        vertical-align: middle;\n",
              "    }\n",
              "\n",
              "    .dataframe tbody tr th {\n",
              "        vertical-align: top;\n",
              "    }\n",
              "\n",
              "    .dataframe thead th {\n",
              "        text-align: right;\n",
              "    }\n",
              "</style>\n",
              "<table border=\"1\" class=\"dataframe\">\n",
              "  <thead>\n",
              "    <tr style=\"text-align: right;\">\n",
              "      <th></th>\n",
              "      <th>NAV per share</th>\n",
              "      <th>Number of shares</th>\n",
              "      <th>Total NAV</th>\n",
              "    </tr>\n",
              "    <tr>\n",
              "      <th>Date</th>\n",
              "      <th></th>\n",
              "      <th></th>\n",
              "      <th></th>\n",
              "    </tr>\n",
              "  </thead>\n",
              "  <tbody>\n",
              "    <tr>\n",
              "      <th>2020-06-05</th>\n",
              "      <td>28.8359</td>\n",
              "      <td>465100</td>\n",
              "      <td>13411577.09</td>\n",
              "    </tr>\n",
              "    <tr>\n",
              "      <th>2020-06-08</th>\n",
              "      <td>28.8341</td>\n",
              "      <td>465100</td>\n",
              "      <td>13410739.91</td>\n",
              "    </tr>\n",
              "    <tr>\n",
              "      <th>2020-06-09</th>\n",
              "      <td>28.8354</td>\n",
              "      <td>465100</td>\n",
              "      <td>13411344.54</td>\n",
              "    </tr>\n",
              "    <tr>\n",
              "      <th>2020-06-10</th>\n",
              "      <td>28.8329</td>\n",
              "      <td>465100</td>\n",
              "      <td>13410181.79</td>\n",
              "    </tr>\n",
              "    <tr>\n",
              "      <th>2020-06-11</th>\n",
              "      <td>28.7582</td>\n",
              "      <td>465100</td>\n",
              "      <td>13375438.82</td>\n",
              "    </tr>\n",
              "  </tbody>\n",
              "</table>\n",
              "</div>"
            ],
            "text/plain": [
              "            NAV per share  Number of shares    Total NAV\n",
              "Date                                                    \n",
              "2020-06-05        28.8359            465100  13411577.09\n",
              "2020-06-08        28.8341            465100  13410739.91\n",
              "2020-06-09        28.8354            465100  13411344.54\n",
              "2020-06-10        28.8329            465100  13410181.79\n",
              "2020-06-11        28.7582            465100  13375438.82"
            ]
          },
          "metadata": {
            "tags": []
          },
          "execution_count": 20
        }
      ]
    }
  ]
}