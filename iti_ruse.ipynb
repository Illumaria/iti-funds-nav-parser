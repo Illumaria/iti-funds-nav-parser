{
  "nbformat": 4,
  "nbformat_minor": 0,
  "metadata": {
    "colab": {
      "name": "iti_ruse.ipynb",
      "provenance": [],
      "collapsed_sections": [],
      "include_colab_link": true
    },
    "kernelspec": {
      "name": "python3",
      "display_name": "Python 3"
    }
  },
  "cells": [
    {
      "cell_type": "markdown",
      "metadata": {
        "id": "view-in-github",
        "colab_type": "text"
      },
      "source": [
        "<a href=\"https://colab.research.google.com/github/Illumaria/iti-funds-nav-parser/blob/master/iti_ruse.ipynb\" target=\"_parent\"><img src=\"https://colab.research.google.com/assets/colab-badge.svg\" alt=\"Open In Colab\"/></a>"
      ]
    },
    {
      "cell_type": "code",
      "metadata": {
        "id": "1wemD1STV49M",
        "colab_type": "code",
        "colab": {}
      },
      "source": [
        "from bs4 import BeautifulSoup\n",
        "import requests\n",
        "import re\n",
        "import pandas as pd"
      ],
      "execution_count": 0,
      "outputs": []
    },
    {
      "cell_type": "code",
      "metadata": {
        "id": "x9LO9AuNbKDC",
        "colab_type": "code",
        "colab": {}
      },
      "source": [
        "url = 'https://www.londonstockexchange.com/stock/RUSE/iti-funds-ucits-etf-sicav/analysis?page=1' # initial link (unspecified page)"
      ],
      "execution_count": 0,
      "outputs": []
    },
    {
      "cell_type": "code",
      "metadata": {
        "id": "y8xpMiJac-tB",
        "colab_type": "code",
        "colab": {}
      },
      "source": [
        "iti_resp = requests.get(url)"
      ],
      "execution_count": 0,
      "outputs": []
    },
    {
      "cell_type": "code",
      "metadata": {
        "id": "gi3SUseUdFZC",
        "colab_type": "code",
        "colab": {}
      },
      "source": [
        "bs = BeautifulSoup(iti_resp.text)"
      ],
      "execution_count": 0,
      "outputs": []
    },
    {
      "cell_type": "code",
      "metadata": {
        "id": "UmwGClAAssY6",
        "colab_type": "code",
        "colab": {
          "base_uri": "https://localhost:8080/",
          "height": 35
        },
        "outputId": "5b94e8ca-fb24-4422-d486-6e5f9b5299b1"
      },
      "source": [
        "# Get the number of pages:\n",
        "pages = bs.find('a', class_=\"page-number page-last\")\n",
        "pages\n",
        "#num_pages = int(pages.split()[3])"
      ],
      "execution_count": 10,
      "outputs": [
        {
          "output_type": "execute_result",
          "data": {
            "text/plain": [
              "<a _ngcontent-sc27=\"\" class=\"page-number page-last\" href=\"/stock/RUSE/iti-funds-ucits-etf-sicav/analysis?page=6\" rel=\"nofollow\">Last page</a>"
            ]
          },
          "metadata": {
            "tags": []
          },
          "execution_count": 10
        }
      ]
    },
    {
      "cell_type": "code",
      "metadata": {
        "id": "PzTXw4KMbGXE",
        "colab_type": "code",
        "colab": {}
      },
      "source": [
        "# Find all the partial links on the first page:\n",
        "scripts_ruse = bs.find_all('a', text = re.compile('ETF SICAV: Net Asset Value'))\n",
        "scripts_rusb = bs.find_all('a', text = re.compile('EUROBOND: Net Asset Value'))"
      ],
      "execution_count": 0,
      "outputs": []
    },
    {
      "cell_type": "code",
      "metadata": {
        "id": "oBmPzm3bfYb7",
        "colab_type": "code",
        "colab": {}
      },
      "source": [
        "# Get full links:\n",
        "urls = []\n",
        "urls.extend(['https://www.londonstockexchange.com' + scripts[i].get('href').split(\"'\")[1] for i in range(len(scripts))])"
      ],
      "execution_count": 0,
      "outputs": []
    },
    {
      "cell_type": "code",
      "metadata": {
        "id": "poYDosK1wJtS",
        "colab_type": "code",
        "colab": {}
      },
      "source": [
        "# Do the same for other pages:\n",
        "for i in range(2,num_pages+1):\n",
        "  resp = requests.get('{}{}{}'.format(url, \"&page=\",i))\n",
        "  bs = BeautifulSoup(resp.text)\n",
        "  scripts = bs.find_all('a', text = re.compile('Net Asset Value'))\n",
        "  urls.extend(['https://www.londonstockexchange.com' + scripts[i].get('href').split(\"'\")[1] for i in range(len(scripts))])"
      ],
      "execution_count": 0,
      "outputs": []
    },
    {
      "cell_type": "code",
      "metadata": {
        "id": "rl1ziATB69nE",
        "colab_type": "code",
        "colab": {}
      },
      "source": [
        "# Get the number of urls to determine the number of table rows:\n",
        "nrows = len(urls)\n",
        "# Create an empty pandas dataframe with 0 to (nrows-1) rows and 0 to (2-1) columns:\n",
        "table = pandas.DataFrame(columns=range(0,4), index = range(0, nrows))"
      ],
      "execution_count": 0,
      "outputs": []
    },
    {
      "cell_type": "code",
      "metadata": {
        "id": "lx0Pikbrfwd2",
        "colab_type": "code",
        "colab": {}
      },
      "source": [
        "# Fill the dataframe with data:\n",
        "for row in range(nrows):\n",
        "  # This is going to take some time... Uncomment to see the \"progress bar\" :D\n",
        "  #print(url)\n",
        "  resp = requests.get(urls[row])\n",
        "  bs = BeautifulSoup(resp.text)\n",
        "\n",
        "  date = bs.find('p', text = re.compile('DEALING DATE')).text\n",
        "  table.iat[row,0] = date.split()[2]\n",
        "\n",
        "  nav = bs.find('p', text = re.compile('NAV PER SHARE')).text\n",
        "  table.iat[row,1] = float(nav.split()[4])\n",
        "\n",
        "  shares = bs.find('p', text = re.compile('NUMBER OF SHARES')).text\n",
        "  table.iat[row,2] = int(shares.split()[5])\n",
        "\n",
        "  table.iat[row,3] = fnav*ishares"
      ],
      "execution_count": 0,
      "outputs": []
    },
    {
      "cell_type": "code",
      "metadata": {
        "id": "9KkZSnUU8mwU",
        "colab_type": "code",
        "colab": {}
      },
      "source": [
        "# Rename the columns:\n",
        "table.columns = ['Date', 'NAV per share', 'Number of shares', 'Total NAV']\n",
        "table"
      ],
      "execution_count": 0,
      "outputs": []
    },
    {
      "cell_type": "code",
      "metadata": {
        "id": "dmGkm-_G9PlL",
        "colab_type": "code",
        "colab": {}
      },
      "source": [
        "# Set the date column to datetime type:\n",
        "table['Date'] = pandas.to_datetime(table['Date'], dayfirst=True)\n",
        "table"
      ],
      "execution_count": 0,
      "outputs": []
    },
    {
      "cell_type": "code",
      "metadata": {
        "id": "DMEb4PaN0lSS",
        "colab_type": "code",
        "colab": {}
      },
      "source": [
        "# Do some type conversions:\n",
        "table['NAV per share'] = pandas.to_numeric(table['NAV per share'])\n",
        "table['Number of shares'] = pandas.to_numeric(table['Number of shares'])\n",
        "table['Total NAV'] = pandas.to_numeric(table['Total NAV'])\n",
        "# Change the index column:\n",
        "table.index = pandas.DatetimeIndex(table['Date'])\n",
        "table"
      ],
      "execution_count": 0,
      "outputs": []
    },
    {
      "cell_type": "code",
      "metadata": {
        "id": "eW31vbL63A7K",
        "colab_type": "code",
        "colab": {}
      },
      "source": [
        "# Get rid of the data column since it copies the index column now:\n",
        "table = table.drop(columns=['Date']).dropna()\n",
        "table"
      ],
      "execution_count": 0,
      "outputs": []
    },
    {
      "cell_type": "code",
      "metadata": {
        "id": "61j5scTI31hn",
        "colab_type": "code",
        "colab": {}
      },
      "source": [
        "# Inverse the dataframe:\n",
        "table = table.iloc[::-1]\n",
        "table"
      ],
      "execution_count": 0,
      "outputs": []
    }
  ]
}