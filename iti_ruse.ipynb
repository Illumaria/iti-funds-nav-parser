{
  "nbformat": 4,
  "nbformat_minor": 0,
  "metadata": {
    "colab": {
      "name": "iti_ruse.ipynb",
      "provenance": [],
      "collapsed_sections": [],
      "include_colab_link": true
    },
    "kernelspec": {
      "name": "python3",
      "display_name": "Python 3"
    }
  },
  "cells": [
    {
      "cell_type": "markdown",
      "metadata": {
        "id": "view-in-github",
        "colab_type": "text"
      },
      "source": [
        "<a href=\"https://colab.research.google.com/github/Illumaria/iti_funds_nav/blob/master/iti_ruse.ipynb\" target=\"_parent\"><img src=\"https://colab.research.google.com/assets/colab-badge.svg\" alt=\"Open In Colab\"/></a>"
      ]
    },
    {
      "cell_type": "code",
      "metadata": {
        "id": "1wemD1STV49M",
        "colab_type": "code",
        "colab": {}
      },
      "source": [
        "from bs4 import BeautifulSoup\n",
        "import requests\n",
        "import re\n",
        "import pandas as pd"
      ],
      "execution_count": 0,
      "outputs": []
    },
    {
      "cell_type": "code",
      "metadata": {
        "id": "x9LO9AuNbKDC",
        "colab_type": "code",
        "colab": {}
      },
      "source": [
        "#url = 'https://www.londonstockexchange.com/exchange/prices-and-markets/ETFs/company-news.html?fourWayKey=LU1483649312LUUSDEUET'\n",
        "url = 'https://www.londonstockexchange.com/exchange/prices-and-markets/rns/company-news.html?tidm=RUSE&isin=LU1483649312&newsType='"
      ],
      "execution_count": 0,
      "outputs": []
    },
    {
      "cell_type": "code",
      "metadata": {
        "id": "y8xpMiJac-tB",
        "colab_type": "code",
        "colab": {}
      },
      "source": [
        "iti_resp = requests.get(url)"
      ],
      "execution_count": 0,
      "outputs": []
    },
    {
      "cell_type": "code",
      "metadata": {
        "id": "gi3SUseUdFZC",
        "colab_type": "code",
        "colab": {}
      },
      "source": [
        "bs = BeautifulSoup(iti_resp.text)"
      ],
      "execution_count": 0,
      "outputs": []
    },
    {
      "cell_type": "code",
      "metadata": {
        "id": "azl_TMkxT5LA",
        "colab_type": "code",
        "outputId": "081836e3-40c3-43df-af26-f9ea4a520465",
        "colab": {
          "base_uri": "https://localhost:8080/",
          "height": 364
        }
      },
      "source": [
        "dates = bs.find_all('span', class_=\"hour\")\n",
        "for date in dates:\n",
        "  print(date.text.split()[0]+\" \"+date.text.split()[1]+\" \"+date.text.split()[2])"
      ],
      "execution_count": 191,
      "outputs": [
        {
          "output_type": "stream",
          "text": [
            "18 Feb 2020\n",
            "17 Feb 2020\n",
            "14 Feb 2020\n",
            "13 Feb 2020\n",
            "12 Feb 2020\n",
            "11 Feb 2020\n",
            "10 Feb 2020\n",
            "07 Feb 2020\n",
            "06 Feb 2020\n",
            "05 Feb 2020\n",
            "04 Feb 2020\n",
            "03 Feb 2020\n",
            "31 Jan 2020\n",
            "30 Jan 2020\n",
            "29 Jan 2020\n",
            "28 Jan 2020\n",
            "27 Jan 2020\n",
            "24 Jan 2020\n",
            "23 Jan 2020\n",
            "22 Jan 2020\n"
          ],
          "name": "stdout"
        }
      ]
    },
    {
      "cell_type": "code",
      "metadata": {
        "id": "PzTXw4KMbGXE",
        "colab_type": "code",
        "outputId": "b3232ddb-ef75-4eb8-ed20-e212e2c1fce1",
        "colab": {
          "base_uri": "https://localhost:8080/",
          "height": 364
        }
      },
      "source": [
        "scripts = bs.find_all('a', title=\"View news announcement\")\n",
        "for script in scripts:\n",
        "        print(script.get('href').split(\"'\")[1])"
      ],
      "execution_count": 192,
      "outputs": [
        {
          "output_type": "stream",
          "text": [
            "/exchange/news/market-news/market-news-detail/RUSE/14427582.html\n",
            "/exchange/news/market-news/market-news-detail/RUSE/14425887.html\n",
            "/exchange/news/market-news/market-news-detail/RUSE/14424188.html\n",
            "/exchange/news/market-news/market-news-detail/RUSE/14422348.html\n",
            "/exchange/news/market-news/market-news-detail/RUSE/14420610.html\n",
            "/exchange/news/market-news/market-news-detail/RUSE/14418887.html\n",
            "/exchange/news/market-news/market-news-detail/RUSE/14417149.html\n",
            "/exchange/news/market-news/market-news-detail/RUSE/14415333.html\n",
            "/exchange/news/market-news/market-news-detail/RUSE/14413804.html\n",
            "/exchange/news/market-news/market-news-detail/RUSE/14411813.html\n",
            "/exchange/news/market-news/market-news-detail/RUSE/14409937.html\n",
            "/exchange/news/market-news/market-news-detail/RUSE/14408107.html\n",
            "/exchange/news/market-news/market-news-detail/RUSE/14406160.html\n",
            "/exchange/news/market-news/market-news-detail/RUSE/14404367.html\n",
            "/exchange/news/market-news/market-news-detail/RUSE/14402635.html\n",
            "/exchange/news/market-news/market-news-detail/RUSE/14400765.html\n",
            "/exchange/news/market-news/market-news-detail/RUSE/14398980.html\n",
            "/exchange/news/market-news/market-news-detail/RUSE/14397561.html\n",
            "/exchange/news/market-news/market-news-detail/RUSE/14395696.html\n",
            "/exchange/news/market-news/market-news-detail/RUSE/14394070.html\n"
          ],
          "name": "stdout"
        }
      ]
    },
    {
      "cell_type": "code",
      "metadata": {
        "id": "oBmPzm3bfYb7",
        "colab_type": "code",
        "outputId": "b468dbcf-6f30-4916-8eb7-1b2f72da2b94",
        "colab": {
          "base_uri": "https://localhost:8080/",
          "height": 382
        }
      },
      "source": [
        "print(len(scripts))\n",
        "for i in range(len(scripts)):\n",
        "  url2 = 'https://www.londonstockexchange.com' + scripts[i].get('href').split(\"'\")[1]\n",
        "  print('{}: {}'.format(i, url2))"
      ],
      "execution_count": 193,
      "outputs": [
        {
          "output_type": "stream",
          "text": [
            "20\n",
            "0: https://www.londonstockexchange.com/exchange/news/market-news/market-news-detail/RUSE/14427582.html\n",
            "1: https://www.londonstockexchange.com/exchange/news/market-news/market-news-detail/RUSE/14425887.html\n",
            "2: https://www.londonstockexchange.com/exchange/news/market-news/market-news-detail/RUSE/14424188.html\n",
            "3: https://www.londonstockexchange.com/exchange/news/market-news/market-news-detail/RUSE/14422348.html\n",
            "4: https://www.londonstockexchange.com/exchange/news/market-news/market-news-detail/RUSE/14420610.html\n",
            "5: https://www.londonstockexchange.com/exchange/news/market-news/market-news-detail/RUSE/14418887.html\n",
            "6: https://www.londonstockexchange.com/exchange/news/market-news/market-news-detail/RUSE/14417149.html\n",
            "7: https://www.londonstockexchange.com/exchange/news/market-news/market-news-detail/RUSE/14415333.html\n",
            "8: https://www.londonstockexchange.com/exchange/news/market-news/market-news-detail/RUSE/14413804.html\n",
            "9: https://www.londonstockexchange.com/exchange/news/market-news/market-news-detail/RUSE/14411813.html\n",
            "10: https://www.londonstockexchange.com/exchange/news/market-news/market-news-detail/RUSE/14409937.html\n",
            "11: https://www.londonstockexchange.com/exchange/news/market-news/market-news-detail/RUSE/14408107.html\n",
            "12: https://www.londonstockexchange.com/exchange/news/market-news/market-news-detail/RUSE/14406160.html\n",
            "13: https://www.londonstockexchange.com/exchange/news/market-news/market-news-detail/RUSE/14404367.html\n",
            "14: https://www.londonstockexchange.com/exchange/news/market-news/market-news-detail/RUSE/14402635.html\n",
            "15: https://www.londonstockexchange.com/exchange/news/market-news/market-news-detail/RUSE/14400765.html\n",
            "16: https://www.londonstockexchange.com/exchange/news/market-news/market-news-detail/RUSE/14398980.html\n",
            "17: https://www.londonstockexchange.com/exchange/news/market-news/market-news-detail/RUSE/14397561.html\n",
            "18: https://www.londonstockexchange.com/exchange/news/market-news/market-news-detail/RUSE/14395696.html\n",
            "19: https://www.londonstockexchange.com/exchange/news/market-news/market-news-detail/RUSE/14394070.html\n"
          ],
          "name": "stdout"
        }
      ]
    },
    {
      "cell_type": "code",
      "metadata": {
        "id": "lx0Pikbrfwd2",
        "colab_type": "code",
        "colab": {}
      },
      "source": [
        "resp = requests.get(url2)\n",
        "bs2 = BeautifulSoup(resp.text)"
      ],
      "execution_count": 0,
      "outputs": []
    },
    {
      "cell_type": "code",
      "metadata": {
        "id": "tQm7k4EphO2P",
        "colab_type": "code",
        "outputId": "42f55f6f-37b6-4867-f5e5-f6db2235bce8",
        "colab": {
          "base_uri": "https://localhost:8080/",
          "height": 34
        }
      },
      "source": [
        "date = bs2.find('p', text = re.compile('DEALING DATE')).text\n",
        "date.split()[2]"
      ],
      "execution_count": 195,
      "outputs": [
        {
          "output_type": "execute_result",
          "data": {
            "text/plain": [
              "'21-Jan-2020'"
            ]
          },
          "metadata": {
            "tags": []
          },
          "execution_count": 195
        }
      ]
    },
    {
      "cell_type": "code",
      "metadata": {
        "id": "1firAfARimXK",
        "colab_type": "code",
        "outputId": "9c9c058c-6d8e-40d9-994f-f34f8b4f3331",
        "colab": {
          "base_uri": "https://localhost:8080/",
          "height": 34
        }
      },
      "source": [
        "nav = bs2.find('p', text = re.compile('NAV PER SHARE')).text\n",
        "inav = float(nav.split()[4])\n",
        "inav"
      ],
      "execution_count": 196,
      "outputs": [
        {
          "output_type": "execute_result",
          "data": {
            "text/plain": [
              "32.3194"
            ]
          },
          "metadata": {
            "tags": []
          },
          "execution_count": 196
        }
      ]
    },
    {
      "cell_type": "code",
      "metadata": {
        "id": "f5Ij0m7Mu3XF",
        "colab_type": "code",
        "colab": {
          "base_uri": "https://localhost:8080/",
          "height": 34
        },
        "outputId": "6ac60d5c-edfd-4697-cd63-3f7547ed764a"
      },
      "source": [
        "shares = bs2.find('p', text = re.compile('NUMBER OF SHARES')).text\n",
        "n_shares = int(shares.split()[5])\n",
        "n_shares"
      ],
      "execution_count": 197,
      "outputs": [
        {
          "output_type": "execute_result",
          "data": {
            "text/plain": [
              "203000"
            ]
          },
          "metadata": {
            "tags": []
          },
          "execution_count": 197
        }
      ]
    },
    {
      "cell_type": "code",
      "metadata": {
        "id": "5CBvtT4HvIC2",
        "colab_type": "code",
        "colab": {
          "base_uri": "https://localhost:8080/",
          "height": 34
        },
        "outputId": "eb6e6682-91c9-44c6-ed77-6c4b0f41e8c7"
      },
      "source": [
        "total_nav = inav * n_shares\n",
        "total_nav"
      ],
      "execution_count": 198,
      "outputs": [
        {
          "output_type": "execute_result",
          "data": {
            "text/plain": [
              "6560838.2"
            ]
          },
          "metadata": {
            "tags": []
          },
          "execution_count": 198
        }
      ]
    },
    {
      "cell_type": "code",
      "metadata": {
        "id": "1r6UoSXozdIS",
        "colab_type": "code",
        "colab": {
          "base_uri": "https://localhost:8080/",
          "height": 206
        },
        "outputId": "966bcb33-ce8c-4ea6-d52d-c14f48d83489"
      },
      "source": [
        "nrows = len(scripts)\n",
        "new_table = pd.DataFrame(columns=range(0,2), index = range(0, nrows))\n",
        "#row_marker = 0\n",
        "#for row in table.find_all('tr'):\n",
        "#  column_marker = 0\n",
        "#  columns = row.find_all('td')\n",
        "#  for column in columns:\n",
        "#    new_table.iat[row_marker,column_marker] = column.get_text()\n",
        "#    column_marker += 1\n",
        "#  row_marker+=1\n",
        "df = new_table.assign(date = pd.to_datetime(new_table[0], dayfirst=True))\n",
        "df.head(5)"
      ],
      "execution_count": 201,
      "outputs": [
        {
          "output_type": "execute_result",
          "data": {
            "text/html": [
              "<div>\n",
              "<style scoped>\n",
              "    .dataframe tbody tr th:only-of-type {\n",
              "        vertical-align: middle;\n",
              "    }\n",
              "\n",
              "    .dataframe tbody tr th {\n",
              "        vertical-align: top;\n",
              "    }\n",
              "\n",
              "    .dataframe thead th {\n",
              "        text-align: right;\n",
              "    }\n",
              "</style>\n",
              "<table border=\"1\" class=\"dataframe\">\n",
              "  <thead>\n",
              "    <tr style=\"text-align: right;\">\n",
              "      <th></th>\n",
              "      <th>0</th>\n",
              "      <th>1</th>\n",
              "      <th>date</th>\n",
              "    </tr>\n",
              "  </thead>\n",
              "  <tbody>\n",
              "    <tr>\n",
              "      <th>0</th>\n",
              "      <td>NaN</td>\n",
              "      <td>NaN</td>\n",
              "      <td>NaT</td>\n",
              "    </tr>\n",
              "    <tr>\n",
              "      <th>1</th>\n",
              "      <td>NaN</td>\n",
              "      <td>NaN</td>\n",
              "      <td>NaT</td>\n",
              "    </tr>\n",
              "    <tr>\n",
              "      <th>2</th>\n",
              "      <td>NaN</td>\n",
              "      <td>NaN</td>\n",
              "      <td>NaT</td>\n",
              "    </tr>\n",
              "    <tr>\n",
              "      <th>3</th>\n",
              "      <td>NaN</td>\n",
              "      <td>NaN</td>\n",
              "      <td>NaT</td>\n",
              "    </tr>\n",
              "    <tr>\n",
              "      <th>4</th>\n",
              "      <td>NaN</td>\n",
              "      <td>NaN</td>\n",
              "      <td>NaT</td>\n",
              "    </tr>\n",
              "  </tbody>\n",
              "</table>\n",
              "</div>"
            ],
            "text/plain": [
              "     0    1 date\n",
              "0  NaN  NaN  NaT\n",
              "1  NaN  NaN  NaT\n",
              "2  NaN  NaN  NaT\n",
              "3  NaN  NaN  NaT\n",
              "4  NaN  NaN  NaT"
            ]
          },
          "metadata": {
            "tags": []
          },
          "execution_count": 201
        }
      ]
    },
    {
      "cell_type": "code",
      "metadata": {
        "id": "NYTDLx4s0LX8",
        "colab_type": "code",
        "colab": {
          "base_uri": "https://localhost:8080/",
          "height": 34
        },
        "outputId": "31bc1cd2-7523-4b7a-ea2a-1550bb12ba12"
      },
      "source": [
        "df = df.rename({1: \"keyrate\", 2: \"date\"}, axis='columns').drop(columns=[0]).dropna()\n",
        "df['keyrate'] = pd.to_numeric(df['keyrate'])\n",
        "df.index = pd.DatetimeIndex(df['date'])\n",
        "type(df.index)"
      ],
      "execution_count": 200,
      "outputs": [
        {
          "output_type": "execute_result",
          "data": {
            "text/plain": [
              "pandas.core.indexes.datetimes.DatetimeIndex"
            ]
          },
          "metadata": {
            "tags": []
          },
          "execution_count": 200
        }
      ]
    }
  ]
}