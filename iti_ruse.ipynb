{
  "nbformat": 4,
  "nbformat_minor": 0,
  "metadata": {
    "colab": {
      "name": "iti_ruse.ipynb",
      "provenance": [],
      "collapsed_sections": [],
      "include_colab_link": true
    },
    "kernelspec": {
      "name": "python3",
      "display_name": "Python 3"
    }
  },
  "cells": [
    {
      "cell_type": "markdown",
      "metadata": {
        "id": "view-in-github",
        "colab_type": "text"
      },
      "source": [
        "<a href=\"https://colab.research.google.com/github/Illumaria/iti_funds_nav/blob/master/iti_ruse.ipynb\" target=\"_parent\"><img src=\"https://colab.research.google.com/assets/colab-badge.svg\" alt=\"Open In Colab\"/></a>"
      ]
    },
    {
      "cell_type": "code",
      "metadata": {
        "id": "1wemD1STV49M",
        "colab_type": "code",
        "colab": {}
      },
      "source": [
        "from bs4 import BeautifulSoup\n",
        "import requests\n",
        "import re"
      ],
      "execution_count": 0,
      "outputs": []
    },
    {
      "cell_type": "code",
      "metadata": {
        "id": "x9LO9AuNbKDC",
        "colab_type": "code",
        "colab": {}
      },
      "source": [
        "#url = 'https://www.londonstockexchange.com/exchange/prices-and-markets/ETFs/company-news.html?fourWayKey=LU1483649312LUUSDEUET'\n",
        "url = 'https://www.londonstockexchange.com/exchange/prices-and-markets/rns/company-news.html?tidm=RUSE&isin=LU1483649312&newsType='"
      ],
      "execution_count": 0,
      "outputs": []
    },
    {
      "cell_type": "code",
      "metadata": {
        "id": "y8xpMiJac-tB",
        "colab_type": "code",
        "colab": {}
      },
      "source": [
        "iti_resp = requests.get(url)"
      ],
      "execution_count": 0,
      "outputs": []
    },
    {
      "cell_type": "code",
      "metadata": {
        "id": "gi3SUseUdFZC",
        "colab_type": "code",
        "colab": {}
      },
      "source": [
        "bs = BeautifulSoup(iti_resp.text)"
      ],
      "execution_count": 0,
      "outputs": []
    },
    {
      "cell_type": "code",
      "metadata": {
        "id": "azl_TMkxT5LA",
        "colab_type": "code",
        "outputId": "31343a4d-c2c6-4d70-a329-9123e4ffcdf3",
        "colab": {
          "base_uri": "https://localhost:8080/",
          "height": 364
        }
      },
      "source": [
        "dates = bs.find_all('span', class_=\"hour\")\n",
        "for date in dates:\n",
        "  print(date.text.split()[0]+\" \"+date.text.split()[1]+\" \"+date.text.split()[2])"
      ],
      "execution_count": 0,
      "outputs": [
        {
          "output_type": "stream",
          "text": [
            "18 Feb 2020\n",
            "17 Feb 2020\n",
            "14 Feb 2020\n",
            "13 Feb 2020\n",
            "12 Feb 2020\n",
            "11 Feb 2020\n",
            "10 Feb 2020\n",
            "07 Feb 2020\n",
            "06 Feb 2020\n",
            "05 Feb 2020\n",
            "04 Feb 2020\n",
            "03 Feb 2020\n",
            "31 Jan 2020\n",
            "30 Jan 2020\n",
            "29 Jan 2020\n",
            "28 Jan 2020\n",
            "27 Jan 2020\n",
            "24 Jan 2020\n",
            "23 Jan 2020\n",
            "22 Jan 2020\n"
          ],
          "name": "stdout"
        }
      ]
    },
    {
      "cell_type": "code",
      "metadata": {
        "id": "PzTXw4KMbGXE",
        "colab_type": "code",
        "outputId": "651b7d32-bcae-4f21-a04f-f68fce35c09b",
        "colab": {
          "base_uri": "https://localhost:8080/",
          "height": 364
        }
      },
      "source": [
        "scripts = bs.find_all('a', title=\"View news announcement\")\n",
        "for script in scripts:\n",
        "        print(script.get('href').split(\"'\")[1])"
      ],
      "execution_count": 0,
      "outputs": [
        {
          "output_type": "stream",
          "text": [
            "/exchange/news/market-news/market-news-detail/RUSE/14427582.html\n",
            "/exchange/news/market-news/market-news-detail/RUSE/14425887.html\n",
            "/exchange/news/market-news/market-news-detail/RUSE/14424188.html\n",
            "/exchange/news/market-news/market-news-detail/RUSE/14422348.html\n",
            "/exchange/news/market-news/market-news-detail/RUSE/14420610.html\n",
            "/exchange/news/market-news/market-news-detail/RUSE/14418887.html\n",
            "/exchange/news/market-news/market-news-detail/RUSE/14417149.html\n",
            "/exchange/news/market-news/market-news-detail/RUSE/14415333.html\n",
            "/exchange/news/market-news/market-news-detail/RUSE/14413804.html\n",
            "/exchange/news/market-news/market-news-detail/RUSE/14411813.html\n",
            "/exchange/news/market-news/market-news-detail/RUSE/14409937.html\n",
            "/exchange/news/market-news/market-news-detail/RUSE/14408107.html\n",
            "/exchange/news/market-news/market-news-detail/RUSE/14406160.html\n",
            "/exchange/news/market-news/market-news-detail/RUSE/14404367.html\n",
            "/exchange/news/market-news/market-news-detail/RUSE/14402635.html\n",
            "/exchange/news/market-news/market-news-detail/RUSE/14400765.html\n",
            "/exchange/news/market-news/market-news-detail/RUSE/14398980.html\n",
            "/exchange/news/market-news/market-news-detail/RUSE/14397561.html\n",
            "/exchange/news/market-news/market-news-detail/RUSE/14395696.html\n",
            "/exchange/news/market-news/market-news-detail/RUSE/14394070.html\n"
          ],
          "name": "stdout"
        }
      ]
    },
    {
      "cell_type": "code",
      "metadata": {
        "id": "oBmPzm3bfYb7",
        "colab_type": "code",
        "outputId": "5cfe8077-e69d-4676-f695-346bc588a9cb",
        "colab": {
          "base_uri": "https://localhost:8080/",
          "height": 382
        }
      },
      "source": [
        "print(len(scripts))\n",
        "for i in range(len(scripts)):\n",
        "  url2 = 'https://www.londonstockexchange.com' + scripts[i].get('href').split(\"'\")[1]\n",
        "  print('{}: {}'.format(i, url2))"
      ],
      "execution_count": 0,
      "outputs": [
        {
          "output_type": "stream",
          "text": [
            "20\n",
            "0: https://www.londonstockexchange.com/exchange/news/market-news/market-news-detail/RUSE/14427582.html\n",
            "1: https://www.londonstockexchange.com/exchange/news/market-news/market-news-detail/RUSE/14425887.html\n",
            "2: https://www.londonstockexchange.com/exchange/news/market-news/market-news-detail/RUSE/14424188.html\n",
            "3: https://www.londonstockexchange.com/exchange/news/market-news/market-news-detail/RUSE/14422348.html\n",
            "4: https://www.londonstockexchange.com/exchange/news/market-news/market-news-detail/RUSE/14420610.html\n",
            "5: https://www.londonstockexchange.com/exchange/news/market-news/market-news-detail/RUSE/14418887.html\n",
            "6: https://www.londonstockexchange.com/exchange/news/market-news/market-news-detail/RUSE/14417149.html\n",
            "7: https://www.londonstockexchange.com/exchange/news/market-news/market-news-detail/RUSE/14415333.html\n",
            "8: https://www.londonstockexchange.com/exchange/news/market-news/market-news-detail/RUSE/14413804.html\n",
            "9: https://www.londonstockexchange.com/exchange/news/market-news/market-news-detail/RUSE/14411813.html\n",
            "10: https://www.londonstockexchange.com/exchange/news/market-news/market-news-detail/RUSE/14409937.html\n",
            "11: https://www.londonstockexchange.com/exchange/news/market-news/market-news-detail/RUSE/14408107.html\n",
            "12: https://www.londonstockexchange.com/exchange/news/market-news/market-news-detail/RUSE/14406160.html\n",
            "13: https://www.londonstockexchange.com/exchange/news/market-news/market-news-detail/RUSE/14404367.html\n",
            "14: https://www.londonstockexchange.com/exchange/news/market-news/market-news-detail/RUSE/14402635.html\n",
            "15: https://www.londonstockexchange.com/exchange/news/market-news/market-news-detail/RUSE/14400765.html\n",
            "16: https://www.londonstockexchange.com/exchange/news/market-news/market-news-detail/RUSE/14398980.html\n",
            "17: https://www.londonstockexchange.com/exchange/news/market-news/market-news-detail/RUSE/14397561.html\n",
            "18: https://www.londonstockexchange.com/exchange/news/market-news/market-news-detail/RUSE/14395696.html\n",
            "19: https://www.londonstockexchange.com/exchange/news/market-news/market-news-detail/RUSE/14394070.html\n"
          ],
          "name": "stdout"
        }
      ]
    },
    {
      "cell_type": "code",
      "metadata": {
        "id": "VlhvV3gcfvcf",
        "colab_type": "code",
        "outputId": "9676f3f1-6c15-4baf-cc5d-f8cbe2325938",
        "colab": {
          "base_uri": "https://localhost:8080/",
          "height": 34
        }
      },
      "source": [
        "url2"
      ],
      "execution_count": 0,
      "outputs": [
        {
          "output_type": "execute_result",
          "data": {
            "text/plain": [
              "'https://www.londonstockexchange.com/exchange/news/market-news/market-news-detail/RUSE/14394070.html'"
            ]
          },
          "metadata": {
            "tags": []
          },
          "execution_count": 115
        }
      ]
    },
    {
      "cell_type": "code",
      "metadata": {
        "id": "lx0Pikbrfwd2",
        "colab_type": "code",
        "colab": {}
      },
      "source": [
        "resp = requests.get(url2)\n",
        "bs2 = BeautifulSoup(resp.text)"
      ],
      "execution_count": 0,
      "outputs": []
    },
    {
      "cell_type": "code",
      "metadata": {
        "id": "tQm7k4EphO2P",
        "colab_type": "code",
        "outputId": "9667ac8f-c085-4739-c061-9868226489a1",
        "colab": {
          "base_uri": "https://localhost:8080/",
          "height": 34
        }
      },
      "source": [
        "date = bs2.find('p', text = re.compile('DEALING DATE')).text\n",
        "date.split()[2]"
      ],
      "execution_count": 0,
      "outputs": [
        {
          "output_type": "execute_result",
          "data": {
            "text/plain": [
              "'21-Jan-2020'"
            ]
          },
          "metadata": {
            "tags": []
          },
          "execution_count": 117
        }
      ]
    },
    {
      "cell_type": "code",
      "metadata": {
        "id": "1firAfARimXK",
        "colab_type": "code",
        "outputId": "08f7d5b8-746e-4a1e-e40d-471e6a18be9f",
        "colab": {
          "base_uri": "https://localhost:8080/",
          "height": 34
        }
      },
      "source": [
        "nav = bs2.find('p', text = re.compile('NAV PER SHARE')).text\n",
        "nav.split()[4]"
      ],
      "execution_count": 0,
      "outputs": [
        {
          "output_type": "execute_result",
          "data": {
            "text/plain": [
              "'32.31940000'"
            ]
          },
          "metadata": {
            "tags": []
          },
          "execution_count": 118
        }
      ]
    }
  ]
}